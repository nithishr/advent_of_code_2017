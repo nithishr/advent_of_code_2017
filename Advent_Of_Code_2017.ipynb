{
 "cells": [
  {
   "cell_type": "markdown",
   "metadata": {},
   "source": [
    "## Day 1"
   ]
  },
  {
   "cell_type": "code",
   "execution_count": 3,
   "metadata": {},
   "outputs": [],
   "source": [
    "def compute_sum(input_number):\n",
    "    number_str = str(input_number)\n",
    "    sum_digits = 0\n",
    "    for i in range(len(number_str)):\n",
    "        if i != len(number_str) - 1:\n",
    "            if number_str[i] == number_str[i+1]:\n",
    "                sum_digits += int(number_str[i])\n",
    "        else:\n",
    "            if number_str[i] == number_str[0]:\n",
    "                sum_digits += int(number_str[i])\n",
    "    return sum_digits"
   ]
  },
  {
   "cell_type": "code",
   "execution_count": 5,
   "metadata": {},
   "outputs": [
    {
     "name": "stdout",
     "output_type": "stream",
     "text": [
      "4 3 0 9\n"
     ]
    }
   ],
   "source": [
    "print(compute_sum(1111), compute_sum(1122), compute_sum(1234), compute_sum(91212129))\n"
   ]
  },
  {
   "cell_type": "code",
   "execution_count": 6,
   "metadata": {},
   "outputs": [
    {
     "name": "stdout",
     "output_type": "stream",
     "text": [
      "1341\n"
     ]
    }
   ],
   "source": [
    "print(compute_sum(951484596541141557316984781494999179679767747627132447513171626424561779662873157761442952212296685573452311263445163233493199211387838461594635666699422982947782623317333683978438123261326863959719777179228599319321138948466562743761584836184512984131635354116264899181952748224523953976485816295227945792555726121913344959454458829485471174415775278865324142733339789878929596275998341778873889585819916457474773252249179366599951454182657225576277834669222982366884688565754691273745959468648957498511326215934353963981471593984617554514519623785326888374742147318993423214834751785956958395133486656388454552769722562524415715913869946325551396638593398729938526424994348267935153555851552287223313383583669912941364344694725478258297498969517632881187394141593479818536194597976519254215932257653777455227477617957833273463216593642394215275314734914719726618923177918342664351954252667253233858814365351722938716621544226598956257753212248859258351363174782742336961425325381561575992352415514168782816173861148859478285339529151631429536819286498721812323861771638574344416879476255929929157912984151742613268754779685396125954595318134933366626594498249956388771723777242772654678448815844555372892574747735672368299826548254744359377667294764559334659523233146587568261116253155189394188696831691284711264872914348961888253386971994431352474717376878745948769171243242621219912378731755544387249443997382399714738351857752329367997665166956467544459817582915478514486541453932175598413554259672117364863112592515988922747164842668361925135551248923449968328385889877512156952725198691746951431443497496455761516486573476185321748523644283494181119399874324683922393547682851931435931276267766772798261563117954648576421741384823494187895272582575669685279986988357796138794326125852772995446355723211161523161886222562853546488411563473998633847953246787557146187696947831335722888918172961256498971868946237299523474841983527391489962357196433927251798764362493965894995592683296651874787384247326643886774966828657393717626591578321174832222434128817871765347278152799425565633521152643686221411129463425496425385516719682884157452772141585743166647191938727971366274357874252166721759))"
   ]
  },
  {
   "cell_type": "code",
   "execution_count": 7,
   "metadata": {},
   "outputs": [],
   "source": [
    "def compute_sum_half_forward(input_number):\n",
    "    number_str = str(input_number)\n",
    "    sum_digits = 0\n",
    "    half_len = int(len(number_str)/2)\n",
    "    for i in range(half_len):\n",
    "        if number_str[i] == number_str[i+half_len]:\n",
    "            sum_digits += int(number_str[i])\n",
    "    return 2 * sum_digits"
   ]
  },
  {
   "cell_type": "code",
   "execution_count": 8,
   "metadata": {},
   "outputs": [
    {
     "name": "stdout",
     "output_type": "stream",
     "text": [
      "6 0 4 12 4\n"
     ]
    }
   ],
   "source": [
    "print(compute_sum_half_forward(1212), compute_sum_half_forward(1221), \n",
    "      compute_sum_half_forward(123425), compute_sum_half_forward(123123),\n",
    "      compute_sum_half_forward(12131415))"
   ]
  },
  {
   "cell_type": "code",
   "execution_count": 9,
   "metadata": {},
   "outputs": [
    {
     "name": "stdout",
     "output_type": "stream",
     "text": [
      "1348\n"
     ]
    }
   ],
   "source": [
    "print(compute_sum_half_forward(951484596541141557316984781494999179679767747627132447513171626424561779662873157761442952212296685573452311263445163233493199211387838461594635666699422982947782623317333683978438123261326863959719777179228599319321138948466562743761584836184512984131635354116264899181952748224523953976485816295227945792555726121913344959454458829485471174415775278865324142733339789878929596275998341778873889585819916457474773252249179366599951454182657225576277834669222982366884688565754691273745959468648957498511326215934353963981471593984617554514519623785326888374742147318993423214834751785956958395133486656388454552769722562524415715913869946325551396638593398729938526424994348267935153555851552287223313383583669912941364344694725478258297498969517632881187394141593479818536194597976519254215932257653777455227477617957833273463216593642394215275314734914719726618923177918342664351954252667253233858814365351722938716621544226598956257753212248859258351363174782742336961425325381561575992352415514168782816173861148859478285339529151631429536819286498721812323861771638574344416879476255929929157912984151742613268754779685396125954595318134933366626594498249956388771723777242772654678448815844555372892574747735672368299826548254744359377667294764559334659523233146587568261116253155189394188696831691284711264872914348961888253386971994431352474717376878745948769171243242621219912378731755544387249443997382399714738351857752329367997665166956467544459817582915478514486541453932175598413554259672117364863112592515988922747164842668361925135551248923449968328385889877512156952725198691746951431443497496455761516486573476185321748523644283494181119399874324683922393547682851931435931276267766772798261563117954648576421741384823494187895272582575669685279986988357796138794326125852772995446355723211161523161886222562853546488411563473998633847953246787557146187696947831335722888918172961256498971868946237299523474841983527391489962357196433927251798764362493965894995592683296651874787384247326643886774966828657393717626591578321174832222434128817871765347278152799425565633521152643686221411129463425496425385516719682884157452772141585743166647191938727971366274357874252166721759))"
   ]
  },
  {
   "cell_type": "markdown",
   "metadata": {},
   "source": [
    "## Day 2"
   ]
  },
  {
   "cell_type": "code",
   "execution_count": 11,
   "metadata": {},
   "outputs": [],
   "source": [
    "def compute_checksum(input_rows):\n",
    "    rows = input_rows.split('\\n')\n",
    "    checksum = 0\n",
    "    for row in rows:\n",
    "        nos = row.split('\\t')\n",
    "        nos = [int(i) for i in nos]\n",
    "        max_row = max(nos)\n",
    "        min_row = min(nos)\n",
    "        checksum += max_row - min_row\n",
    "    return checksum        "
   ]
  },
  {
   "cell_type": "code",
   "execution_count": 3,
   "metadata": {},
   "outputs": [
    {
     "name": "stdout",
     "output_type": "stream",
     "text": [
      "18\n"
     ]
    }
   ],
   "source": [
    "test1 = \"\"\"5 1 9 5\n",
    "7 5 3\n",
    "2 4 6 8\"\"\"\n",
    "print(compute_checksum(test1))"
   ]
  },
  {
   "cell_type": "code",
   "execution_count": 12,
   "metadata": {},
   "outputs": [
    {
     "name": "stdout",
     "output_type": "stream",
     "text": [
      "53978\n"
     ]
    }
   ],
   "source": [
    "test_actual = \"\"\"1919\t2959\t82\t507\t3219\t239\t3494\t1440\t3107\t259\t3544\t683\t207\t562\t276\t2963\n",
    "587\t878\t229\t2465\t2575\t1367\t2017\t154\t152\t157\t2420\t2480\t138\t2512\t2605\t876\n",
    "744\t6916\t1853\t1044\t2831\t4797\t213\t4874\t187\t6051\t6086\t7768\t5571\t6203\t247\t285\n",
    "1210\t1207\t1130\t116\t1141\t563\t1056\t155\t227\t1085\t697\t735\t192\t1236\t1065\t156\n",
    "682\t883\t187\t307\t269\t673\t290\t693\t199\t132\t505\t206\t231\t200\t760\t612\n",
    "1520\t95\t1664\t1256\t685\t1446\t253\t88\t92\t313\t754\t1402\t734\t716\t342\t107\n",
    "146\t1169\t159\t3045\t163\t3192\t1543\t312\t161\t3504\t3346\t3231\t771\t3430\t3355\t3537\n",
    "177\t2129\t3507\t3635\t2588\t3735\t3130\t980\t324\t266\t1130\t3753\t175\t229\t517\t3893\n",
    "4532\t164\t191\t5169\t4960\t3349\t3784\t3130\t5348\t5036\t2110\t151\t5356\t193\t1380\t3580\n",
    "2544\t3199\t3284\t3009\t3400\t953\t3344\t3513\t102\t1532\t161\t143\t2172\t2845\t136\t2092\n",
    "194\t5189\t3610\t4019\t210\t256\t5178\t4485\t5815\t5329\t5457\t248\t5204\t4863\t5880\t3754\n",
    "3140\t4431\t4534\t4782\t3043\t209\t216\t5209\t174\t161\t3313\t5046\t1160\t160\t4036\t111\n",
    "2533\t140\t4383\t1581\t139\t141\t2151\t2104\t2753\t4524\t4712\t866\t3338\t2189\t116\t4677\n",
    "1240\t45\t254\t1008\t1186\t306\t633\t1232\t1457\t808\t248\t1166\t775\t1418\t1175\t287\n",
    "851\t132\t939\t1563\t539\t1351\t1147\t117\t1484\t100\t123\t490\t152\t798\t1476\t543\n",
    "1158\t2832\t697\t113\t121\t397\t1508\t118\t2181\t2122\t809\t2917\t134\t2824\t3154\t2791\"\"\"\n",
    "print(compute_checksum(test_actual))"
   ]
  },
  {
   "cell_type": "code",
   "execution_count": 26,
   "metadata": {},
   "outputs": [],
   "source": [
    "def compute_division_checksum(input_rows):\n",
    "    rows = input_rows.split('\\n')\n",
    "    checksum = 0\n",
    "    for row in rows:\n",
    "        nos = row.split('\\t')\n",
    "        nos = [int(i) for i in nos]\n",
    "        flag = False\n",
    "        for no in nos:\n",
    "            for n in nos:\n",
    "                if n!= no:\n",
    "                    if no % n == 0:\n",
    "                        checksum += no/n\n",
    "                        flag = True\n",
    "                        break\n",
    "            if flag:\n",
    "                break\n",
    "    return int(checksum)"
   ]
  },
  {
   "cell_type": "code",
   "execution_count": 25,
   "metadata": {},
   "outputs": [
    {
     "name": "stdout",
     "output_type": "stream",
     "text": [
      "9\n"
     ]
    }
   ],
   "source": [
    "test1 = \"\"\"5 9 2 8\n",
    "9 4 7 3\n",
    "3 8 6 5\"\"\"\n",
    "print(compute_division_checksum(test1))"
   ]
  },
  {
   "cell_type": "code",
   "execution_count": 27,
   "metadata": {},
   "outputs": [
    {
     "name": "stdout",
     "output_type": "stream",
     "text": [
      "314\n"
     ]
    }
   ],
   "source": [
    "print(compute_division_checksum(test_actual))"
   ]
  },
  {
   "cell_type": "markdown",
   "metadata": {},
   "source": [
    "## Day 3"
   ]
  },
  {
   "cell_type": "code",
   "execution_count": 13,
   "metadata": {},
   "outputs": [],
   "source": [
    "# def compute_spiral_distance(number):\n",
    "#     nearest_square = 1\n",
    "#     for n in range(2, int(number/2)):\n",
    "#         if n**2 <= number and (n+1)**2 > number:\n",
    "#             nearest_square = n\n",
    "#             break\n",
    "#     distance = nearest_square-1 + abs(number - (nearest_square**2))\n",
    "#     print(number, nearest_square, nearest_square**2, distance)\n",
    "#     return distance        "
   ]
  },
  {
   "cell_type": "code",
   "execution_count": 14,
   "metadata": {},
   "outputs": [
    {
     "name": "stdout",
     "output_type": "stream",
     "text": [
      "4 1 1 3\n",
      "12 3 9 5\n",
      "23 4 16 10\n",
      "1024 32 1024 31\n",
      "1 1 1 0\n",
      "3 5 10 31 0\n"
     ]
    }
   ],
   "source": [
    "# print(compute_spiral_distance(4), compute_spiral_distance(12), compute_spiral_distance(23), compute_spiral_distance(1024), compute_spiral_distance(1))"
   ]
  },
  {
   "cell_type": "code",
   "execution_count": 15,
   "metadata": {},
   "outputs": [
    {
     "name": "stdout",
     "output_type": "stream",
     "text": [
      "325489 570 324900 1158\n",
      "1158\n"
     ]
    }
   ],
   "source": [
    "# print(compute_spiral_distance(325489))"
   ]
  },
  {
   "cell_type": "code",
   "execution_count": 16,
   "metadata": {},
   "outputs": [],
   "source": [
    "def move_right(x,y):\n",
    "    return x+1, y\n",
    "\n",
    "def move_down(x,y):\n",
    "    return x,y-1\n",
    "\n",
    "def move_left(x,y):\n",
    "    return x-1,y\n",
    "\n",
    "def move_up(x,y):\n",
    "    return x,y+1\n",
    "\n",
    "moves = [move_right, move_up, move_left, move_down]"
   ]
  },
  {
   "cell_type": "code",
   "execution_count": 17,
   "metadata": {},
   "outputs": [],
   "source": [
    "def gen_points(end):\n",
    "    from itertools import cycle\n",
    "    _moves = cycle(moves)\n",
    "    n = 1\n",
    "    pos = 0,0\n",
    "    times_to_move = 1\n",
    "\n",
    "    yield n,pos\n",
    "\n",
    "    while True:\n",
    "        for _ in range(2):\n",
    "            move = next(_moves)\n",
    "            for _ in range(times_to_move):\n",
    "                if n >= end:\n",
    "                    return\n",
    "                pos = move(*pos)\n",
    "                n+=1\n",
    "                yield n,pos\n",
    "\n",
    "        times_to_move+=1"
   ]
  },
  {
   "cell_type": "code",
   "execution_count": 19,
   "metadata": {},
   "outputs": [
    {
     "name": "stdout",
     "output_type": "stream",
     "text": [
      "[(1, (0, 0)), (2, (1, 0)), (3, (1, 1)), (4, (0, 1)), (5, (-1, 1)), (6, (-1, 0)), (7, (-1, -1)), (8, (0, -1)), (9, (1, -1)), (10, (2, -1)), (11, (2, 0)), (12, (2, 1))]\n"
     ]
    }
   ],
   "source": [
    "spiral_12 = list(gen_points(12))\n",
    "print(spiral_12)"
   ]
  },
  {
   "cell_type": "code",
   "execution_count": 23,
   "metadata": {},
   "outputs": [
    {
     "name": "stdout",
     "output_type": "stream",
     "text": [
      "325489\n"
     ]
    }
   ],
   "source": [
    "spiral_325489 = list(gen_points(325489))\n",
    "print(len(spiral_325489))"
   ]
  },
  {
   "cell_type": "code",
   "execution_count": 24,
   "metadata": {},
   "outputs": [
    {
     "data": {
      "text/plain": [
       "((325489, (-267, -285)), (1, (0, 0)))"
      ]
     },
     "execution_count": 24,
     "metadata": {},
     "output_type": "execute_result"
    }
   ],
   "source": [
    "spiral_325489[325488], spiral_325489[0]"
   ]
  },
  {
   "cell_type": "code",
   "execution_count": 30,
   "metadata": {},
   "outputs": [],
   "source": [
    "def compute_distance_from_spiral(number):\n",
    "    spiral = list(gen_points(number))\n",
    "    distance = abs((spiral[0])[1][0]-(spiral[number-1])[1][0]) + abs((spiral[0])[1][0]-(spiral[number-1])[1][1])\n",
    "    return distance"
   ]
  },
  {
   "cell_type": "code",
   "execution_count": 31,
   "metadata": {},
   "outputs": [
    {
     "name": "stdout",
     "output_type": "stream",
     "text": [
      "552\n"
     ]
    }
   ],
   "source": [
    "print(compute_distance_from_spiral(325489))"
   ]
  },
  {
   "cell_type": "code",
   "execution_count": 32,
   "metadata": {},
   "outputs": [
    {
     "name": "stdout",
     "output_type": "stream",
     "text": [
      "1 3 2 31\n"
     ]
    }
   ],
   "source": [
    "print(compute_distance_from_spiral(4), compute_distance_from_spiral(12), compute_distance_from_spiral(23), compute_distance_from_spiral(1024))"
   ]
  },
  {
   "cell_type": "markdown",
   "metadata": {},
   "source": [
    "[Part 2] https://oeis.org/A141481"
   ]
  },
  {
   "cell_type": "markdown",
   "metadata": {},
   "source": [
    "## Day 4"
   ]
  },
  {
   "cell_type": "code",
   "execution_count": 1,
   "metadata": {},
   "outputs": [],
   "source": [
    "list_str = [\"aa bb cc dd ee\", \"aa bb cc dd aa\", \"aa bb cc dd aaa\"]"
   ]
  },
  {
   "cell_type": "code",
   "execution_count": 2,
   "metadata": {},
   "outputs": [],
   "source": [
    "def check_if_word_repeats(input_string):\n",
    "    words = input_string.split()\n",
    "    words_set = set(words)\n",
    "    if len(words) == len(words_set):\n",
    "        return False\n",
    "    else:\n",
    "        return True"
   ]
  },
  {
   "cell_type": "code",
   "execution_count": 10,
   "metadata": {},
   "outputs": [],
   "source": [
    "def count_valid_strings(input_list, fun):\n",
    "    count = 0\n",
    "    for input_string in input_list:\n",
    "        if not fun(input_string):\n",
    "            count += 1\n",
    "    return count"
   ]
  },
  {
   "cell_type": "code",
   "execution_count": 11,
   "metadata": {},
   "outputs": [
    {
     "name": "stdout",
     "output_type": "stream",
     "text": [
      "2\n"
     ]
    }
   ],
   "source": [
    "print(count_valid_strings(list_str, check_if_word_repeats))"
   ]
  },
  {
   "cell_type": "code",
   "execution_count": 12,
   "metadata": {},
   "outputs": [
    {
     "name": "stdout",
     "output_type": "stream",
     "text": [
      "512\n",
      "466\n"
     ]
    }
   ],
   "source": [
    "with open(\"Day4_input.txt\", 'r') as input_file:\n",
    "    input_strings = input_file.readlines()\n",
    "print(len(input_strings))\n",
    "print(count_valid_strings(input_strings, check_if_word_repeats))"
   ]
  },
  {
   "cell_type": "code",
   "execution_count": 7,
   "metadata": {},
   "outputs": [],
   "source": [
    "test_list_part2 = [\"abcde fghij\", \"abcde xyz ecdab\", \"a ab abc abd abf abj\", \"iiii oiii ooii oooi oooo\", \"oiii ioii iioi iiio\"]"
   ]
  },
  {
   "cell_type": "code",
   "execution_count": 8,
   "metadata": {},
   "outputs": [],
   "source": [
    "def check_if_words_anagram(input_string):\n",
    "    words = input_string.split()\n",
    "    words_components_sorted = []\n",
    "    for word in words:\n",
    "        words_components_sorted.append(''.join(sorted(word)))\n",
    "    words_components_sorted_set = set(words_components_sorted)\n",
    "    if len(words_components_sorted) == len(words_components_sorted_set):\n",
    "        return False\n",
    "    else:\n",
    "        return True"
   ]
  },
  {
   "cell_type": "code",
   "execution_count": 13,
   "metadata": {},
   "outputs": [
    {
     "name": "stdout",
     "output_type": "stream",
     "text": [
      "3\n"
     ]
    }
   ],
   "source": [
    "print(count_valid_strings(test_list_part2, check_if_words_anagram))"
   ]
  },
  {
   "cell_type": "code",
   "execution_count": 14,
   "metadata": {},
   "outputs": [
    {
     "name": "stdout",
     "output_type": "stream",
     "text": [
      "512\n",
      "251\n"
     ]
    }
   ],
   "source": [
    "with open(\"Day4_input.txt\", 'r') as input_file:\n",
    "    input_strings = input_file.readlines()\n",
    "print(len(input_strings))\n",
    "print(count_valid_strings(input_strings, check_if_words_anagram))"
   ]
  },
  {
   "cell_type": "markdown",
   "metadata": {},
   "source": [
    "## Day 5"
   ]
  },
  {
   "cell_type": "code",
   "execution_count": 2,
   "metadata": {},
   "outputs": [],
   "source": [
    "def count_maze_exit_steps(input_list):\n",
    "    count = 0\n",
    "    index = 0\n",
    "    while index >= 0 and index < len(input_list):\n",
    "        change = input_list[index]\n",
    "        input_list[index] += 1\n",
    "        index += change\n",
    "        count += 1\n",
    "    return count"
   ]
  },
  {
   "cell_type": "code",
   "execution_count": 2,
   "metadata": {},
   "outputs": [
    {
     "name": "stdout",
     "output_type": "stream",
     "text": [
      "5\n"
     ]
    }
   ],
   "source": [
    "test_input = [0, 3, 0, 1, -3]\n",
    "print(count_maze_exit_steps(test_input))"
   ]
  },
  {
   "cell_type": "code",
   "execution_count": 6,
   "metadata": {},
   "outputs": [
    {
     "name": "stdout",
     "output_type": "stream",
     "text": [
      "4\n"
     ]
    }
   ],
   "source": [
    "test_input2 = [1, 2, 3, -1]\n",
    "print(count_maze_exit_steps(test_input2))"
   ]
  },
  {
   "cell_type": "code",
   "execution_count": 9,
   "metadata": {},
   "outputs": [
    {
     "name": "stdout",
     "output_type": "stream",
     "text": [
      "-682\n",
      "1097\n",
      "[1, 0, 0, 1, 0, -3, 2, 1, -7, -6] [-803, -950, -528, -586, -303, -947, -1028, -698, -81, -682]\n"
     ]
    }
   ],
   "source": [
    "with open(\"Day5_input.txt\", 'r') as input_file:\n",
    "    input_numbers = [int(line) for line in input_file]\n",
    "print(input_numbers[-1])\n",
    "print(len(input_numbers))\n",
    "print(input_numbers[:10], input_numbers[-10:])"
   ]
  },
  {
   "cell_type": "code",
   "execution_count": 10,
   "metadata": {},
   "outputs": [
    {
     "name": "stdout",
     "output_type": "stream",
     "text": [
      "[1, 0, 0, 1, 0, -3, 2, 1, -7, -6] <class 'int'> <class 'int'>\n",
      "387096\n"
     ]
    }
   ],
   "source": [
    "print(input_numbers[:10], type(input_numbers[0]), type(input_numbers[-1]))\n",
    "print(count_maze_exit_steps(input_numbers))"
   ]
  },
  {
   "cell_type": "code",
   "execution_count": 15,
   "metadata": {},
   "outputs": [],
   "source": [
    "def count_maze_exit_steps_part2(input_list):\n",
    "    count = 0\n",
    "    index = 0\n",
    "    while index >= 0 and index < len(input_list):\n",
    "        change = input_list[index]\n",
    "        if change >= 3:\n",
    "            input_list[index] -= 1\n",
    "        else:\n",
    "            input_list[index] += 1\n",
    "        index += change\n",
    "        count += 1\n",
    "    return count"
   ]
  },
  {
   "cell_type": "code",
   "execution_count": 16,
   "metadata": {},
   "outputs": [
    {
     "name": "stdout",
     "output_type": "stream",
     "text": [
      "10\n"
     ]
    }
   ],
   "source": [
    "test_input = [0, 3, 0, 1, -3]\n",
    "print(count_maze_exit_steps_part2(test_input))"
   ]
  },
  {
   "cell_type": "code",
   "execution_count": 17,
   "metadata": {},
   "outputs": [
    {
     "name": "stdout",
     "output_type": "stream",
     "text": [
      "-682\n",
      "1097\n",
      "[1, 0, 0, 1, 0, -3, 2, 1, -7, -6] [-803, -950, -528, -586, -303, -947, -1028, -698, -81, -682]\n",
      "28040648\n"
     ]
    }
   ],
   "source": [
    "with open(\"Day5_input.txt\", 'r') as input_file:\n",
    "    input_numbers = [int(line) for line in input_file]\n",
    "print(input_numbers[-1])\n",
    "print(len(input_numbers))\n",
    "print(input_numbers[:10], input_numbers[-10:])\n",
    "print(count_maze_exit_steps_part2(input_numbers))"
   ]
  },
  {
   "cell_type": "markdown",
   "metadata": {},
   "source": [
    "## Day 7"
   ]
  },
  {
   "cell_type": "code",
   "execution_count": 24,
   "metadata": {},
   "outputs": [],
   "source": [
    "# import math\n",
    "# def allocate_blocks(input_list):\n",
    "#     maximum = max(input_list)\n",
    "#     max_index = input_list.index(maximum)\n",
    "#     length = len(input_list)\n",
    "#     change = math.ceil(maximum/length)\n",
    "# #     print(\"m\",maximum)\n",
    "# #     print(\"c\",change)\n",
    "#     count = 0\n",
    "#     excess = maximum\n",
    "#     input_list[max_index] = 0\n",
    "#     index = max_index\n",
    "#     while count < length and excess > 0:\n",
    "#         index = (index + 1) % length\n",
    "#         count += 1\n",
    "#         if excess >= change:\n",
    "#             input_list[index] += change\n",
    "#             excess -= change\n",
    "# #             print(\"1 i {0} e {1}\".format(index, excess))\n",
    "#         else:\n",
    "#             input_list[index] += excess\n",
    "#             excess = 0\n",
    "#     return tuple(input_list)\n",
    "        "
   ]
  },
  {
   "cell_type": "code",
   "execution_count": 30,
   "metadata": {},
   "outputs": [],
   "source": [
    "import math\n",
    "def allocate_blocks(input_list):\n",
    "    maximum = max(input_list)\n",
    "    max_index = input_list.index(maximum)\n",
    "    length = len(input_list)\n",
    "    excess = maximum\n",
    "    input_list[max_index] = 0\n",
    "    index = max_index\n",
    "    while excess > 0:\n",
    "        index = (index + 1) % length\n",
    "        input_list[index] += 1\n",
    "        excess -= 1\n",
    "    return tuple(input_list)"
   ]
  },
  {
   "cell_type": "code",
   "execution_count": 27,
   "metadata": {},
   "outputs": [],
   "source": [
    "def count_unrepeating_sequences(input_list):\n",
    "    allocation_set = set()\n",
    "    count = 0\n",
    "    while True:\n",
    "        length_before_update = len(allocation_set)\n",
    "        allocation_set.add(allocate_blocks(input_list))\n",
    "        count += 1\n",
    "        if len(allocation_set) != length_before_update + 1:\n",
    "            break\n",
    "    return count"
   ]
  },
  {
   "cell_type": "code",
   "execution_count": 31,
   "metadata": {},
   "outputs": [
    {
     "name": "stdout",
     "output_type": "stream",
     "text": [
      "5\n"
     ]
    }
   ],
   "source": [
    "test_input = [0, 2, 7, 0]\n",
    "print(count_unrepeating_sequences(test_input))"
   ]
  },
  {
   "cell_type": "code",
   "execution_count": 32,
   "metadata": {},
   "outputs": [
    {
     "name": "stdout",
     "output_type": "stream",
     "text": [
      "14029\n"
     ]
    }
   ],
   "source": [
    "test_part1 = [10, 3, 15, 10, 5, 15, 5, 15, 9, 2, 5, 8, 5, 2, 3, 6]\n",
    "print(count_unrepeating_sequences(test_part1))"
   ]
  },
  {
   "cell_type": "code",
   "execution_count": 46,
   "metadata": {},
   "outputs": [],
   "source": [
    "def count_cyclic_sequences(input_list):\n",
    "    allocation_set_order = {}\n",
    "    count = 0\n",
    "    allocation_set_order[tuple(input_list)] = count\n",
    "    cycle_length = 0\n",
    "    while True:\n",
    "        length_before_update = len(allocation_set_order.keys())\n",
    "        new_block = allocate_blocks(input_list)\n",
    "        count += 1\n",
    "        if tuple(new_block) in allocation_set_order.keys():\n",
    "            cycle_length = count - allocation_set_order[tuple(new_block)]\n",
    "            break\n",
    "        else:\n",
    "            allocation_set_order[tuple(new_block)] = count\n",
    "    return cycle_length"
   ]
  },
  {
   "cell_type": "code",
   "execution_count": 47,
   "metadata": {},
   "outputs": [
    {
     "name": "stdout",
     "output_type": "stream",
     "text": [
      "4\n"
     ]
    }
   ],
   "source": [
    "test_input = [0, 2, 7, 0]\n",
    "print(count_cyclic_sequences(test_input))"
   ]
  },
  {
   "cell_type": "code",
   "execution_count": 48,
   "metadata": {},
   "outputs": [
    {
     "name": "stdout",
     "output_type": "stream",
     "text": [
      "2765\n"
     ]
    }
   ],
   "source": [
    "test_part1 = [10, 3, 15, 10, 5, 15, 5, 15, 9, 2, 5, 8, 5, 2, 3, 6]\n",
    "print(count_cyclic_sequences(test_part1))"
   ]
  }
 ],
 "metadata": {
  "kernelspec": {
   "display_name": "Python 3",
   "language": "python",
   "name": "python3"
  },
  "language_info": {
   "codemirror_mode": {
    "name": "ipython",
    "version": 3
   },
   "file_extension": ".py",
   "mimetype": "text/x-python",
   "name": "python",
   "nbconvert_exporter": "python",
   "pygments_lexer": "ipython3",
   "version": "3.5.3"
  }
 },
 "nbformat": 4,
 "nbformat_minor": 2
}
